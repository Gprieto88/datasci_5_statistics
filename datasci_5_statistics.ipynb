{
  "nbformat": 4,
  "nbformat_minor": 0,
  "metadata": {
    "colab": {
      "provenance": [],
      "authorship_tag": "ABX9TyMrFApiIbuTMJFbIvFuKBnR",
      "include_colab_link": true
    },
    "kernelspec": {
      "name": "python3",
      "display_name": "Python 3"
    },
    "language_info": {
      "name": "python"
    }
  },
  "cells": [
    {
      "cell_type": "markdown",
      "metadata": {
        "id": "view-in-github",
        "colab_type": "text"
      },
      "source": [
        "<a href=\"https://colab.research.google.com/github/Gprieto88/datasci_5_statistics/blob/main/datasci_5_statistics.ipynb\" target=\"_parent\"><img src=\"https://colab.research.google.com/assets/colab-badge.svg\" alt=\"Open In Colab\"/></a>"
      ]
    },
    {
      "cell_type": "markdown",
      "source": [
        "# Chi-Square Test\n"
      ],
      "metadata": {
        "id": "q135B4ymLNge"
      }
    },
    {
      "cell_type": "code",
      "source": [
        "df <- read.csv('Medicare_Part_D_Prescribers_by_Geography_and_Drug_2021.csv')\n"
      ],
      "metadata": {
        "id": "b3m7lqubntJB"
      },
      "execution_count": null,
      "outputs": []
    },
    {
      "cell_type": "code",
      "source": [
        "df = read.csv('https://raw.githubusercontent.com/hantswilliams/HHA_507_2023/main/WK5/examples/data/cms-chronic-conditions/CC_R20_P08_v10_D18_WWDSE_Cond_complete.csv')\n",
        "df"
      ],
      "metadata": {
        "id": "Do6Ud_wtqJBY"
      },
      "execution_count": null,
      "outputs": []
    },
    {
      "cell_type": "code",
      "source": [
        "Osteoporosis_data <- subset(df, Bene_Cond == 'Osteoporosis')\n",
        "Osteoporosis_data"
      ],
      "metadata": {
        "id": "2crCd39Uqb_V"
      },
      "execution_count": null,
      "outputs": []
    },
    {
      "cell_type": "code",
      "source": [
        "southern_data <- subset(Osteoporosis_data, is_southern == 'southern')$Prvlnc\n",
        "southern_data"
      ],
      "metadata": {
        "id": "FHq-o97iqnNJ"
      },
      "execution_count": null,
      "outputs": []
    },
    {
      "cell_type": "code",
      "source": [
        "non_southern_data <- subset(Osteoporosis_data, is_southern == 'non-southern')$Prvlnc\n",
        "non_southern_data"
      ],
      "metadata": {
        "id": "x3uhiFVRqrBj"
      },
      "execution_count": null,
      "outputs": []
    },
    {
      "cell_type": "code",
      "source": [
        "t.test(southern_data, non_southern_data)"
      ],
      "metadata": {
        "id": "8Z_EPaOtq1Qk"
      },
      "execution_count": null,
      "outputs": []
    },
    {
      "cell_type": "code",
      "source": [
        "southern_mean <- mean(southern_data)\n",
        "southern_mean"
      ],
      "metadata": {
        "id": "DOHd57hQq28t"
      },
      "execution_count": null,
      "outputs": []
    },
    {
      "cell_type": "code",
      "source": [
        "non_southern_mean <- mean(non_southern_data)\n",
        "non_southern_mean"
      ],
      "metadata": {
        "id": "Dn99Ua3Kq6VW"
      },
      "execution_count": null,
      "outputs": []
    },
    {
      "cell_type": "markdown",
      "source": [
        "Having issues downloading data"
      ],
      "metadata": {
        "id": "Jp_lfSz_rgDE"
      }
    }
  ]
}